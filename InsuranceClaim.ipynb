{
  "nbformat": 4,
  "nbformat_minor": 0,
  "metadata": {
    "colab": {
      "name": "InsuranceClaim.ipynb",
      "version": "0.3.2",
      "views": {},
      "default_view": {},
      "provenance": []
    },
    "kernelspec": {
      "name": "python3",
      "display_name": "Python 3"
    },
    "accelerator": "GPU"
  },
  "cells": [
    {
      "metadata": {
        "id": "YmVoBcRPOzzq",
        "colab_type": "code",
        "colab": {
          "autoexec": {
            "startup": false,
            "wait_interval": 0
          }
        }
      },
      "cell_type": "code",
      "source": [
        "import warnings\n",
        "\n",
        "from sklearn.metrics import mean_absolute_error\n",
        "\n",
        "warnings.filterwarnings('ignore')\n",
        "\n",
        "# Read raw data from the file\n",
        "import numpy as np\n",
        "import time\n",
        "import pandas              \n",
        "from sklearn.model_selection import train_test_split\n",
        "from sklearn.linear_model import LinearRegression\n",
        "from sklearn import datasets, linear_model\n",
        "\n",
        "#If using google colab read the data by following lines\n",
        "from google.colab import files\n",
        "import io\n",
        "\n",
        "#uploaded = files.upload()\n",
        "dataset = pandas.read_csv('train.csv')\n",
        "\n",
        "#Read test dataset\n",
        "#uploaded1 = files.upload()\n",
        "dataset_test = pandas.read_csv('test.csv')"
      ],
      "execution_count": 0,
      "outputs": []
    },
    {
      "metadata": {
        "id": "SUIi6Qwv8bQS",
        "colab_type": "code",
        "colab": {
          "autoexec": {
            "startup": false,
            "wait_interval": 0
          }
        }
      },
      "cell_type": "code",
      "source": [
        "ID = dataset_test['id']\n",
        "#Drop unnecessary columns\n",
        "dataset_test.drop('id',axis=1,inplace=True)\n",
        "\n",
        "#Print all rows and columns. Dont hide any\n",
        "pandas.set_option('display.max_rows', None)\n",
        "pandas.set_option('display.max_columns', None)\n",
        "\n",
        "dataset = dataset.iloc[:,1:]"
      ],
      "execution_count": 0,
      "outputs": []
    },
    {
      "metadata": {
        "id": "tRyHJlMn82QN",
        "colab_type": "text"
      },
      "cell_type": "markdown",
      "source": [
        "# **Combining Test and Train Data for One-Hot Encoding**"
      ]
    },
    {
      "metadata": {
        "id": "yjg7z-wZP--u",
        "colab_type": "code",
        "colab": {
          "autoexec": {
            "startup": false,
            "wait_interval": 0
          },
          "base_uri": "https://localhost:8080/",
          "height": 34
        },
        "outputId": "557533ec-744b-4940-a62e-02bc5bc868d8",
        "executionInfo": {
          "status": "ok",
          "timestamp": 1527129046656,
          "user_tz": 240,
          "elapsed": 1303,
          "user": {
            "displayName": "Bikramjeet Singh",
            "photoUrl": "https://lh3.googleusercontent.com/a/default-user=s128",
            "userId": "111066880573380176274"
          }
        }
      },
      "cell_type": "code",
      "source": [
        "\n",
        "\n",
        "#Print the shape of the dataset\n",
        "print(dataset.shape)\n",
        "\n",
        "split = 116\n",
        "\n",
        "#Considering continous features\n",
        "size = 15\n",
        "\n",
        "#create a dataframe with only continuous features\n",
        "data=dataset.iloc[:,split:]\n",
        "\n",
        "dataset[\"loss\"] = numpy.log1p(dataset[\"loss\"])\n",
        "corr_list = []\n",
        "\n",
        "#Storing names of the columns\n",
        "cols = dataset.columns\n",
        "\n",
        "#Variable to hold the list of variables for an attribute in the train and test data\n",
        "labels = []\n",
        "\n",
        "\n",
        "for i in range(0,split):\n",
        "    train = dataset[cols[i]].unique()\n",
        "    test = dataset_test[cols[i]].unique()\n",
        "    labels.append(list(set(train) | set(test)))\n",
        "    "
      ],
      "execution_count": 31,
      "outputs": [
        {
          "output_type": "stream",
          "text": [
            "(188318, 131)\n"
          ],
          "name": "stdout"
        }
      ]
    },
    {
      "metadata": {
        "id": "8hf4E6lJ_Ews",
        "colab_type": "text"
      },
      "cell_type": "markdown",
      "source": [
        "#Converting Categorical data to Continous data"
      ]
    },
    {
      "metadata": {
        "id": "0Gd6KKnSOrbA",
        "colab_type": "code",
        "colab": {
          "autoexec": {
            "startup": false,
            "wait_interval": 0
          },
          "base_uri": "https://localhost:8080/",
          "height": 34
        },
        "outputId": "4dc63bfc-663f-4f9c-b6fe-2bbe10d20175",
        "executionInfo": {
          "status": "ok",
          "timestamp": 1527129165905,
          "user_tz": 240,
          "elapsed": 23598,
          "user": {
            "displayName": "Bikramjeet Singh",
            "photoUrl": "https://lh3.googleusercontent.com/a/default-user=s128",
            "userId": "111066880573380176274"
          }
        }
      },
      "cell_type": "code",
      "source": [
        "#Converting categorical data to numerical value by using label and One-Hot Encoding\n",
        "\n",
        "from sklearn.preprocessing import LabelEncoder\n",
        "from sklearn.preprocessing import OneHotEncoder\n",
        "\n",
        "categories = []\n",
        "for i in range(0, split):\n",
        "    #Label encode\n",
        "    label_encoder = LabelEncoder()\n",
        "    label_encoder.fit(labels[i])\n",
        "    feature = label_encoder.transform(dataset.iloc[:,i])\n",
        "    \n",
        "    feature = feature.reshape(dataset.shape[0], 1)\n",
        "    \n",
        "    #One hot encode\n",
        "    onehot_encoder = OneHotEncoder(sparse=False,n_values=len(labels[i]))\n",
        "    feature = onehot_encoder.fit_transform(feature)\n",
        "    categories.append(feature)\n",
        "\n",
        "# Make a 2D array from a list of 1D arrays\n",
        "categories_encoded = numpy.column_stack(categories)\n",
        "\n",
        "# Concatenate encoded attributes with continuous attributes\n",
        "dataset_encoded = np.concatenate((categories_encoded,dataset.iloc[:,split:].values),axis=1)\n",
        "\n",
        "#printing shape of final encoded features\n",
        "print(np.shape(dataset_encoded))\n",
        "\n",
        "del categories\n",
        "del feature\n",
        "del categories_encoded\n",
        "\n",
        "# Separating the  training label and train data from final dataset\n",
        "training_data= dataset_encoded[:,0:1190]\n",
        "training_labels= dataset_encoded[:,1190]\n",
        "\n",
        "# Splitting the read data into training data set and testing data set. 90% as train. 10% as test\n",
        "training_features,  test_features, training_target, test_target = train_test_split(training_data,training_labels, test_size=0.1,random_state=0)\n",
        "\n",
        "\n",
        "\n",
        "\n",
        "\n",
        "\n",
        "\n"
      ],
      "execution_count": 32,
      "outputs": [
        {
          "output_type": "stream",
          "text": [
            "(188318, 1191)\n"
          ],
          "name": "stdout"
        }
      ]
    },
    {
      "metadata": {
        "id": "K8wq0GsO_ZYW",
        "colab_type": "text"
      },
      "cell_type": "markdown",
      "source": [
        "#**Implementing** Linear Regression"
      ]
    },
    {
      "metadata": {
        "id": "hde1QokQQHoq",
        "colab_type": "code",
        "colab": {
          "autoexec": {
            "startup": false,
            "wait_interval": 0
          },
          "base_uri": "https://localhost:8080/",
          "height": 51
        },
        "outputId": "5ecf20dd-bb30-41ae-ad3e-6aeb0b725787",
        "executionInfo": {
          "status": "ok",
          "timestamp": 1527127860550,
          "user_tz": 240,
          "elapsed": 41522,
          "user": {
            "displayName": "Bikramjeet Singh",
            "photoUrl": "https://lh3.googleusercontent.com/a/default-user=s128",
            "userId": "111066880573380176274"
          }
        }
      },
      "cell_type": "code",
      "source": [
        "\n",
        "from sklearn.linear_model import LinearRegression\n",
        "total = 0\n",
        "total1=0\n",
        "regr = LinearRegression(fit_intercept='True',n_jobs=-1)\n",
        "\n",
        "#Passing features and target value to fit function to perform Linear Regression\n",
        "regr.fit(training_features, training_target)\n",
        "\n",
        "#Predicting the output value using test data features\n",
        "y_pred = regr.predict(test_features)\n",
        "\n",
        "#Calculating mean absolute error\n",
        "e1 = mean_absolute_error(numpy.expm1(y_pred) , numpy.expm1(test_target))\n",
        "\n",
        "print(e1)\n",
        "\n"
      ],
      "execution_count": 12,
      "outputs": [
        {
          "output_type": "stream",
          "text": [
            "1277.676563289273\n",
            "1277.676563289273\n"
          ],
          "name": "stdout"
        }
      ]
    },
    {
      "metadata": {
        "id": "_OZ0oMhz_-Qa",
        "colab_type": "text"
      },
      "cell_type": "markdown",
      "source": [
        "# Implementing Ridge Regression"
      ]
    },
    {
      "metadata": {
        "id": "OMxa63htQO58",
        "colab_type": "code",
        "colab": {
          "autoexec": {
            "startup": false,
            "wait_interval": 0
          },
          "base_uri": "https://localhost:8080/",
          "height": 51
        },
        "outputId": "52dd49f6-2ea1-4db2-9874-1bc52d6b5ccf",
        "executionInfo": {
          "status": "ok",
          "timestamp": 1527127954952,
          "user_tz": 240,
          "elapsed": 11236,
          "user": {
            "displayName": "Bikramjeet Singh",
            "photoUrl": "https://lh3.googleusercontent.com/a/default-user=s128",
            "userId": "111066880573380176274"
          }
        }
      },
      "cell_type": "code",
      "source": [
        "\n",
        "regr1 = linear_model.Ridge(alpha=1.0,fit_intercept='True')\n",
        "\n",
        "#Passing features and target value to perform Ridge Regression\n",
        "regr1.fit(training_features, training_target)\n",
        "\n",
        "#Predicting the output value using test data features\n",
        "#Calculating mean absolute error\n",
        "mean_error1= mean_absolute_error(numpy.expm1(test_target),numpy.expm1(regr1.predict(test_features)))\n",
        "\n",
        "print(mean_error1)\n"
      ],
      "execution_count": 13,
      "outputs": [
        {
          "output_type": "stream",
          "text": [
            "(18832,)\n",
            "1267.536993086767\n"
          ],
          "name": "stdout"
        }
      ]
    },
    {
      "metadata": {
        "id": "TzFn3wTVAYfc",
        "colab_type": "text"
      },
      "cell_type": "markdown",
      "source": [
        "# Implementing Lasso Regression"
      ]
    },
    {
      "metadata": {
        "id": "E1krSicgQPFM",
        "colab_type": "code",
        "colab": {
          "autoexec": {
            "startup": false,
            "wait_interval": 0
          },
          "base_uri": "https://localhost:8080/",
          "height": 51
        },
        "outputId": "01ed739e-27e0-4d46-831d-00ad62863985",
        "executionInfo": {
          "status": "ok",
          "timestamp": 1527128155159,
          "user_tz": 240,
          "elapsed": 199709,
          "user": {
            "displayName": "Bikramjeet Singh",
            "photoUrl": "https://lh3.googleusercontent.com/a/default-user=s128",
            "userId": "111066880573380176274"
          }
        }
      },
      "cell_type": "code",
      "source": [
        "\n",
        "regr2 = linear_model.Lasso(alpha=0.001,fit_intercept='True')\n",
        "\n",
        "#Passing features and target value to perform Lasso Regression\n",
        "regr2.fit(training_features, training_target)\n",
        "\n",
        "#Predicting the output value using test data features\n",
        "#Calculating mean absolute error\n",
        "mean_error2= mean_absolute_error(numpy.expm1(test_target),numpy.expm1(regr2.predict(test_features)))\n",
        "\n",
        "print(mean_error2)\n"
      ],
      "execution_count": 14,
      "outputs": [
        {
          "output_type": "stream",
          "text": [
            "(18832,)\n",
            "1262.5314595059162\n"
          ],
          "name": "stdout"
        }
      ]
    },
    {
      "metadata": {
        "id": "3EA5yjftA6sM",
        "colab_type": "text"
      },
      "cell_type": "markdown",
      "source": [
        "# Implementing AdaBoost Regressor"
      ]
    },
    {
      "metadata": {
        "id": "mcV0nj7bSzEO",
        "colab_type": "code",
        "colab": {
          "autoexec": {
            "startup": false,
            "wait_interval": 0
          },
          "base_uri": "https://localhost:8080/",
          "height": 69
        },
        "outputId": "72799585-69a5-4102-c6a5-f0bd035f6dcb",
        "executionInfo": {
          "status": "ok",
          "timestamp": 1523832379790,
          "user_tz": 240,
          "elapsed": 842640,
          "user": {
            "displayName": "Bikramjeet Singh",
            "photoUrl": "https://lh3.googleusercontent.com/a/default-user=s128",
            "userId": "111066880573380176274"
          }
        }
      },
      "cell_type": "code",
      "source": [
        "from sklearn.ensemble import AdaBoostRegressor\n",
        "\n",
        "#Add the n_estimators value to the below list if you want to run the algo\n",
        "regr4 = AdaBoostRegressor(n_estimators=10)\n",
        "\n",
        "#Passing features and target value to perform AdaBoost Regression   \n",
        "regr4.fit(training_features, training_target)\n",
        "\n",
        "#Predicting the output value using test data feature\n",
        "#Calculating mean absolute error\n",
        "result = mean_absolute_error(numpy.expm1(test_target),numpy.expm1(regr4.predict(test_features)))\n",
        "\n",
        "print(result)\n",
        "\n",
        " \n",
        "\n"
      ],
      "execution_count": 9,
      "outputs": [
        {
          "output_type": "stream",
          "text": [
            "1567.1384491815927\n",
            "1641.5385344705896\n",
            "842.3515577316284\n"
          ],
          "name": "stdout"
        }
      ]
    },
    {
      "metadata": {
        "id": "1EsKx5e-BDKS",
        "colab_type": "text"
      },
      "cell_type": "markdown",
      "source": [
        "# Implementing KNN Regression"
      ]
    },
    {
      "metadata": {
        "id": "J17PqPGaVCmk",
        "colab_type": "code",
        "colab": {
          "autoexec": {
            "startup": false,
            "wait_interval": 0
          },
          "base_uri": "https://localhost:8080/",
          "height": 52
        },
        "outputId": "1d16a094-c999-4d35-f02e-33d7538d832c",
        "executionInfo": {
          "status": "ok",
          "timestamp": 1523840472640,
          "user_tz": 240,
          "elapsed": 5008108,
          "user": {
            "displayName": "Bikramjeet Singh",
            "photoUrl": "https://lh3.googleusercontent.com/a/default-user=s128",
            "userId": "111066880573380176274"
          }
        }
      },
      "cell_type": "code",
      "source": [
        "from sklearn.neighbors import KNeighborsRegressor\n",
        "\n",
        "#Add the N value to the below list to change the neighbours  \n",
        "regr5 = KNeighborsRegressor(n_neighbors=8,n_jobs=-1)\n",
        "\n",
        "#Passing features and target value to perform KNN Regression\n",
        "regr5.fit(training_features, training_target)\n",
        "\n",
        "\n",
        "#Predicting the output value using test data feature\n",
        "#Calculating mean absolute error\n",
        "result = mean_absolute_error(numpy.expm1(test_target),numpy.expm1(regr5.predict(test_features)))\n",
        "\n",
        "print(result)\n"
      ],
      "execution_count": 10,
      "outputs": [
        {
          "output_type": "stream",
          "text": [
            "1419.564929748002\n",
            "5007.80005812645\n"
          ],
          "name": "stdout"
        }
      ]
    },
    {
      "metadata": {
        "id": "3QarFygWBqlX",
        "colab_type": "text"
      },
      "cell_type": "markdown",
      "source": [
        "# Implementing XGBoost Regressor"
      ]
    },
    {
      "metadata": {
        "id": "s64o6vyBuPGd",
        "colab_type": "code",
        "colab": {
          "autoexec": {
            "startup": false,
            "wait_interval": 0
          }
        }
      },
      "cell_type": "code",
      "source": [
        "from sklearn.feature_selection import SelectFromModel\n",
        "from xgboost import XGBRegressor\n",
        "\n",
        "regr6 = XGBRegressor(n_estimators=1000)\n",
        "   \n",
        "#Passing features and target value to perform XGBoost Regression\n",
        "regr6.fit(training_features, training_target)\n",
        "\n",
        "#Predicting the output value using test data feature\n",
        "#Calculating mean absolute error\n",
        "result = mean_absolute_error(numpy.expm1(test_target),numpy.expm1(regr4.predict(test_features)))\n",
        "\n",
        "print(result)\n",
        "\n",
        "#Plotting a graph that shows the 10 most important features\n",
        "from xgboost import plot_importance\n",
        "plot_importance(regr6, max_num_features=10)\n",
        "\n",
        "\n",
        "      \n",
        "        \n",
        "  "
      ],
      "execution_count": 0,
      "outputs": []
    }
  ]
}